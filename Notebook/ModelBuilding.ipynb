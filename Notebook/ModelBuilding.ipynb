{
 "cells": [
  {
   "cell_type": "code",
   "execution_count": 1,
   "id": "cutting-pontiac",
   "metadata": {},
   "outputs": [],
   "source": [
    "import pandas as pd\n",
    "import numpy as np\n",
    "import seaborn as sn\n",
    "import matplotlib.pyplot as plt\n",
    "%matplotlib inline"
   ]
  },
  {
   "cell_type": "code",
   "execution_count": 2,
   "id": "photographic-logan",
   "metadata": {},
   "outputs": [
    {
     "data": {
      "text/html": [
       "<div>\n",
       "<style scoped>\n",
       "    .dataframe tbody tr th:only-of-type {\n",
       "        vertical-align: middle;\n",
       "    }\n",
       "\n",
       "    .dataframe tbody tr th {\n",
       "        vertical-align: top;\n",
       "    }\n",
       "\n",
       "    .dataframe thead th {\n",
       "        text-align: right;\n",
       "    }\n",
       "</style>\n",
       "<table border=\"1\" class=\"dataframe\">\n",
       "  <thead>\n",
       "    <tr style=\"text-align: right;\">\n",
       "      <th></th>\n",
       "      <th>N</th>\n",
       "      <th>P</th>\n",
       "      <th>K</th>\n",
       "      <th>temperature</th>\n",
       "      <th>humidity</th>\n",
       "      <th>ph</th>\n",
       "      <th>rainfall</th>\n",
       "      <th>label</th>\n",
       "    </tr>\n",
       "  </thead>\n",
       "  <tbody>\n",
       "    <tr>\n",
       "      <th>0</th>\n",
       "      <td>79</td>\n",
       "      <td>34</td>\n",
       "      <td>37</td>\n",
       "      <td>20.879744</td>\n",
       "      <td>82.002744</td>\n",
       "      <td>6.502985</td>\n",
       "      <td>202.935536</td>\n",
       "      <td>rice</td>\n",
       "    </tr>\n",
       "    <tr>\n",
       "      <th>1</th>\n",
       "      <td>78</td>\n",
       "      <td>21</td>\n",
       "      <td>20</td>\n",
       "      <td>21.770462</td>\n",
       "      <td>80.319644</td>\n",
       "      <td>7.038096</td>\n",
       "      <td>226.655537</td>\n",
       "      <td>rice</td>\n",
       "    </tr>\n",
       "    <tr>\n",
       "      <th>2</th>\n",
       "      <td>92</td>\n",
       "      <td>31</td>\n",
       "      <td>34</td>\n",
       "      <td>23.004459</td>\n",
       "      <td>82.320763</td>\n",
       "      <td>7.840207</td>\n",
       "      <td>263.964248</td>\n",
       "      <td>rice</td>\n",
       "    </tr>\n",
       "    <tr>\n",
       "      <th>3</th>\n",
       "      <td>98</td>\n",
       "      <td>38</td>\n",
       "      <td>45</td>\n",
       "      <td>26.491096</td>\n",
       "      <td>80.158363</td>\n",
       "      <td>6.980401</td>\n",
       "      <td>242.864034</td>\n",
       "      <td>rice</td>\n",
       "    </tr>\n",
       "    <tr>\n",
       "      <th>4</th>\n",
       "      <td>79</td>\n",
       "      <td>53</td>\n",
       "      <td>43</td>\n",
       "      <td>20.130175</td>\n",
       "      <td>81.604873</td>\n",
       "      <td>7.628473</td>\n",
       "      <td>262.717340</td>\n",
       "      <td>rice</td>\n",
       "    </tr>\n",
       "  </tbody>\n",
       "</table>\n",
       "</div>"
      ],
      "text/plain": [
       "    N   P   K  temperature   humidity        ph    rainfall label\n",
       "0  79  34  37    20.879744  82.002744  6.502985  202.935536  rice\n",
       "1  78  21  20    21.770462  80.319644  7.038096  226.655537  rice\n",
       "2  92  31  34    23.004459  82.320763  7.840207  263.964248  rice\n",
       "3  98  38  45    26.491096  80.158363  6.980401  242.864034  rice\n",
       "4  79  53  43    20.130175  81.604873  7.628473  262.717340  rice"
      ]
     },
     "execution_count": 2,
     "metadata": {},
     "output_type": "execute_result"
    }
   ],
   "source": [
    "df = pd.read_csv('To_Use_data.csv')\n",
    "df.head()"
   ]
  },
  {
   "cell_type": "code",
   "execution_count": 3,
   "id": "blocked-parallel",
   "metadata": {},
   "outputs": [
    {
     "data": {
      "text/plain": [
       "N              0\n",
       "P              0\n",
       "K              0\n",
       "temperature    0\n",
       "humidity       0\n",
       "ph             0\n",
       "rainfall       0\n",
       "label          0\n",
       "dtype: int64"
      ]
     },
     "execution_count": 3,
     "metadata": {},
     "output_type": "execute_result"
    }
   ],
   "source": [
    "df.isnull().sum()"
   ]
  },
  {
   "cell_type": "code",
   "execution_count": 4,
   "id": "foster-first",
   "metadata": {},
   "outputs": [
    {
     "data": {
      "text/plain": [
       "(2200, 8)"
      ]
     },
     "execution_count": 4,
     "metadata": {},
     "output_type": "execute_result"
    }
   ],
   "source": [
    "df.shape"
   ]
  },
  {
   "cell_type": "code",
   "execution_count": 5,
   "id": "laden-brunswick",
   "metadata": {},
   "outputs": [
    {
     "data": {
      "text/plain": [
       "array(['rice', 'maize', 'chickpea', 'kidneybeans', 'pigeonpeas',\n",
       "       'mothbeans', 'mungbean', 'blackgram', 'lentil', 'pomegranate',\n",
       "       'banana', 'mango', 'grapes', 'watermelon', 'muskmelon', 'apple',\n",
       "       'orange', 'papaya', 'coconut', 'cotton', 'jute', 'coffee'],\n",
       "      dtype=object)"
      ]
     },
     "execution_count": 5,
     "metadata": {},
     "output_type": "execute_result"
    }
   ],
   "source": [
    "df['label'].unique()"
   ]
  },
  {
   "cell_type": "code",
   "execution_count": 6,
   "id": "finite-ukraine",
   "metadata": {},
   "outputs": [
    {
     "data": {
      "text/plain": [
       "rice           100\n",
       "maize          100\n",
       "jute           100\n",
       "cotton         100\n",
       "coconut        100\n",
       "papaya         100\n",
       "orange         100\n",
       "apple          100\n",
       "muskmelon      100\n",
       "watermelon     100\n",
       "grapes         100\n",
       "mango          100\n",
       "banana         100\n",
       "pomegranate    100\n",
       "lentil         100\n",
       "blackgram      100\n",
       "mungbean       100\n",
       "mothbeans      100\n",
       "pigeonpeas     100\n",
       "kidneybeans    100\n",
       "chickpea       100\n",
       "coffee         100\n",
       "Name: label, dtype: int64"
      ]
     },
     "execution_count": 6,
     "metadata": {},
     "output_type": "execute_result"
    }
   ],
   "source": [
    "df['label'].value_counts()"
   ]
  },
  {
   "cell_type": "code",
   "execution_count": 7,
   "id": "classical-wesley",
   "metadata": {
    "scrolled": true
   },
   "outputs": [
    {
     "data": {
      "text/plain": [
       "{'rice': 1,\n",
       " 'maize': 2,\n",
       " 'chickpea': 3,\n",
       " 'kidneybeans': 4,\n",
       " 'pigeonpeas': 5,\n",
       " 'mothbeans': 6,\n",
       " 'mungbean': 7,\n",
       " 'blackgram': 8,\n",
       " 'lentil': 9,\n",
       " 'pomegranate': 10,\n",
       " 'banana': 11,\n",
       " 'mango': 12,\n",
       " 'grapes': 13,\n",
       " 'watermelon': 14,\n",
       " 'muskmelon': 15,\n",
       " 'apple': 16,\n",
       " 'orange': 17,\n",
       " 'papaya': 18,\n",
       " 'coconut': 19,\n",
       " 'cotton': 20,\n",
       " 'jute': 21,\n",
       " 'coffee': 22}"
      ]
     },
     "execution_count": 7,
     "metadata": {},
     "output_type": "execute_result"
    }
   ],
   "source": [
    "labels = ['rice', 'maize', 'chickpea', 'kidneybeans', 'pigeonpeas',\n",
    "       'mothbeans', 'mungbean', 'blackgram', 'lentil', 'pomegranate',\n",
    "       'banana', 'mango', 'grapes', 'watermelon', 'muskmelon', 'apple',\n",
    "       'orange', 'papaya', 'coconut', 'cotton', 'jute', 'coffee']\n",
    "labels_map = {labels[i]:i+1 for i in range(len(labels))}\n",
    "labels_map"
   ]
  },
  {
   "cell_type": "code",
   "execution_count": 8,
   "id": "inclusive-investor",
   "metadata": {},
   "outputs": [
    {
     "data": {
      "text/html": [
       "<div>\n",
       "<style scoped>\n",
       "    .dataframe tbody tr th:only-of-type {\n",
       "        vertical-align: middle;\n",
       "    }\n",
       "\n",
       "    .dataframe tbody tr th {\n",
       "        vertical-align: top;\n",
       "    }\n",
       "\n",
       "    .dataframe thead th {\n",
       "        text-align: right;\n",
       "    }\n",
       "</style>\n",
       "<table border=\"1\" class=\"dataframe\">\n",
       "  <thead>\n",
       "    <tr style=\"text-align: right;\">\n",
       "      <th></th>\n",
       "      <th>N</th>\n",
       "      <th>P</th>\n",
       "      <th>K</th>\n",
       "      <th>temperature</th>\n",
       "      <th>humidity</th>\n",
       "      <th>ph</th>\n",
       "      <th>rainfall</th>\n",
       "      <th>label</th>\n",
       "    </tr>\n",
       "  </thead>\n",
       "  <tbody>\n",
       "    <tr>\n",
       "      <th>0</th>\n",
       "      <td>79</td>\n",
       "      <td>34</td>\n",
       "      <td>37</td>\n",
       "      <td>20.879744</td>\n",
       "      <td>82.002744</td>\n",
       "      <td>6.502985</td>\n",
       "      <td>202.935536</td>\n",
       "      <td>1</td>\n",
       "    </tr>\n",
       "    <tr>\n",
       "      <th>1</th>\n",
       "      <td>78</td>\n",
       "      <td>21</td>\n",
       "      <td>20</td>\n",
       "      <td>21.770462</td>\n",
       "      <td>80.319644</td>\n",
       "      <td>7.038096</td>\n",
       "      <td>226.655537</td>\n",
       "      <td>1</td>\n",
       "    </tr>\n",
       "    <tr>\n",
       "      <th>2</th>\n",
       "      <td>92</td>\n",
       "      <td>31</td>\n",
       "      <td>34</td>\n",
       "      <td>23.004459</td>\n",
       "      <td>82.320763</td>\n",
       "      <td>7.840207</td>\n",
       "      <td>263.964248</td>\n",
       "      <td>1</td>\n",
       "    </tr>\n",
       "    <tr>\n",
       "      <th>3</th>\n",
       "      <td>98</td>\n",
       "      <td>38</td>\n",
       "      <td>45</td>\n",
       "      <td>26.491096</td>\n",
       "      <td>80.158363</td>\n",
       "      <td>6.980401</td>\n",
       "      <td>242.864034</td>\n",
       "      <td>1</td>\n",
       "    </tr>\n",
       "    <tr>\n",
       "      <th>4</th>\n",
       "      <td>79</td>\n",
       "      <td>53</td>\n",
       "      <td>43</td>\n",
       "      <td>20.130175</td>\n",
       "      <td>81.604873</td>\n",
       "      <td>7.628473</td>\n",
       "      <td>262.717340</td>\n",
       "      <td>1</td>\n",
       "    </tr>\n",
       "  </tbody>\n",
       "</table>\n",
       "</div>"
      ],
      "text/plain": [
       "    N   P   K  temperature   humidity        ph    rainfall  label\n",
       "0  79  34  37    20.879744  82.002744  6.502985  202.935536      1\n",
       "1  78  21  20    21.770462  80.319644  7.038096  226.655537      1\n",
       "2  92  31  34    23.004459  82.320763  7.840207  263.964248      1\n",
       "3  98  38  45    26.491096  80.158363  6.980401  242.864034      1\n",
       "4  79  53  43    20.130175  81.604873  7.628473  262.717340      1"
      ]
     },
     "execution_count": 8,
     "metadata": {},
     "output_type": "execute_result"
    }
   ],
   "source": [
    "dummm = df.copy()\n",
    "df['label'] = df['label'].map(labels_map)\n",
    "df.head()"
   ]
  },
  {
   "cell_type": "markdown",
   "id": "favorite-substitute",
   "metadata": {},
   "source": [
    "## Outlier Removal"
   ]
  },
  {
   "cell_type": "markdown",
   "id": "turned-shoulder",
   "metadata": {},
   "source": [
    "### First Lets detect the outliers as shown ↓\n",
    "\n",
    "**We will be using the gaussian trainsformation technique which says if there are datapoints greater than \"mean+{num} * std\",then there is a possibilty that that particular datapoint will not fit in the gaussian distribution,so here i have choosen the num as 3,so my range is {lower,upper} = {mean-{3} * std,mean+{3} * std},if there are any datapoints beyond these ranges,then they must be removed,so we find there are couple of data points of that,inorder to remove these outilers,we will be using another method of `Quantiles` which is `Inter Quantile Range` which is a better approach!**"
   ]
  },
  {
   "cell_type": "code",
   "execution_count": 9,
   "id": "legislative-consistency",
   "metadata": {},
   "outputs": [],
   "source": [
    "temp = df.copy()"
   ]
  },
  {
   "cell_type": "code",
   "execution_count": 10,
   "id": "computational-algeria",
   "metadata": {},
   "outputs": [],
   "source": [
    "upper_list = []\n",
    "lower_list = []\n",
    "\n",
    "for i in temp.columns[:-1]:\n",
    "    upper_list.append(df[i].mean()+(df[i].std())*3)\n",
    "    lower_list.append(df[i].mean()-(df[i].std())*3)\n",
    "    "
   ]
  },
  {
   "cell_type": "code",
   "execution_count": 11,
   "id": "satisfactory-harvard",
   "metadata": {},
   "outputs": [],
   "source": [
    "j = 0\n",
    "for i in temp.columns[:-1]:\n",
    "    dummy = temp[(temp[i]>upper_list[j])|(temp[i]<lower_list[j])];j+=1"
   ]
  },
  {
   "cell_type": "code",
   "execution_count": 12,
   "id": "grave-speaker",
   "metadata": {},
   "outputs": [
    {
     "data": {
      "text/html": [
       "<div>\n",
       "<style scoped>\n",
       "    .dataframe tbody tr th:only-of-type {\n",
       "        vertical-align: middle;\n",
       "    }\n",
       "\n",
       "    .dataframe tbody tr th {\n",
       "        vertical-align: top;\n",
       "    }\n",
       "\n",
       "    .dataframe thead th {\n",
       "        text-align: right;\n",
       "    }\n",
       "</style>\n",
       "<table border=\"1\" class=\"dataframe\">\n",
       "  <thead>\n",
       "    <tr style=\"text-align: right;\">\n",
       "      <th></th>\n",
       "      <th>N</th>\n",
       "      <th>P</th>\n",
       "      <th>K</th>\n",
       "      <th>temperature</th>\n",
       "      <th>humidity</th>\n",
       "      <th>ph</th>\n",
       "      <th>rainfall</th>\n",
       "      <th>label</th>\n",
       "    </tr>\n",
       "  </thead>\n",
       "  <tbody>\n",
       "    <tr>\n",
       "      <th>6</th>\n",
       "      <td>75</td>\n",
       "      <td>23</td>\n",
       "      <td>28</td>\n",
       "      <td>22.708838</td>\n",
       "      <td>82.639414</td>\n",
       "      <td>5.700806</td>\n",
       "      <td>271.324860</td>\n",
       "      <td>1</td>\n",
       "    </tr>\n",
       "    <tr>\n",
       "      <th>12</th>\n",
       "      <td>86</td>\n",
       "      <td>52</td>\n",
       "      <td>48</td>\n",
       "      <td>26.800796</td>\n",
       "      <td>80.886848</td>\n",
       "      <td>5.108682</td>\n",
       "      <td>284.436457</td>\n",
       "      <td>1</td>\n",
       "    </tr>\n",
       "    <tr>\n",
       "      <th>16</th>\n",
       "      <td>61</td>\n",
       "      <td>46</td>\n",
       "      <td>51</td>\n",
       "      <td>21.587118</td>\n",
       "      <td>82.788371</td>\n",
       "      <td>6.249051</td>\n",
       "      <td>276.655246</td>\n",
       "      <td>1</td>\n",
       "    </tr>\n",
       "    <tr>\n",
       "      <th>19</th>\n",
       "      <td>100</td>\n",
       "      <td>46</td>\n",
       "      <td>34</td>\n",
       "      <td>23.579436</td>\n",
       "      <td>83.587603</td>\n",
       "      <td>5.853932</td>\n",
       "      <td>291.298662</td>\n",
       "      <td>1</td>\n",
       "    </tr>\n",
       "    <tr>\n",
       "      <th>26</th>\n",
       "      <td>96</td>\n",
       "      <td>32</td>\n",
       "      <td>31</td>\n",
       "      <td>26.359272</td>\n",
       "      <td>84.044036</td>\n",
       "      <td>6.286500</td>\n",
       "      <td>271.358614</td>\n",
       "      <td>1</td>\n",
       "    </tr>\n",
       "    <tr>\n",
       "      <th>30</th>\n",
       "      <td>68</td>\n",
       "      <td>34</td>\n",
       "      <td>49</td>\n",
       "      <td>21.446540</td>\n",
       "      <td>84.943760</td>\n",
       "      <td>5.824709</td>\n",
       "      <td>272.201720</td>\n",
       "      <td>1</td>\n",
       "    </tr>\n",
       "    <tr>\n",
       "      <th>33</th>\n",
       "      <td>94</td>\n",
       "      <td>25</td>\n",
       "      <td>30</td>\n",
       "      <td>20.267076</td>\n",
       "      <td>81.638952</td>\n",
       "      <td>5.014507</td>\n",
       "      <td>270.441727</td>\n",
       "      <td>1</td>\n",
       "    </tr>\n",
       "    <tr>\n",
       "      <th>36</th>\n",
       "      <td>78</td>\n",
       "      <td>23</td>\n",
       "      <td>40</td>\n",
       "      <td>26.757542</td>\n",
       "      <td>81.177340</td>\n",
       "      <td>5.960370</td>\n",
       "      <td>272.299906</td>\n",
       "      <td>1</td>\n",
       "    </tr>\n",
       "    <tr>\n",
       "      <th>37</th>\n",
       "      <td>74</td>\n",
       "      <td>42</td>\n",
       "      <td>29</td>\n",
       "      <td>23.863305</td>\n",
       "      <td>83.152508</td>\n",
       "      <td>5.561399</td>\n",
       "      <td>285.249365</td>\n",
       "      <td>1</td>\n",
       "    </tr>\n",
       "    <tr>\n",
       "      <th>38</th>\n",
       "      <td>68</td>\n",
       "      <td>60</td>\n",
       "      <td>49</td>\n",
       "      <td>21.019447</td>\n",
       "      <td>82.952217</td>\n",
       "      <td>7.416245</td>\n",
       "      <td>298.401847</td>\n",
       "      <td>1</td>\n",
       "    </tr>\n",
       "    <tr>\n",
       "      <th>43</th>\n",
       "      <td>83</td>\n",
       "      <td>44</td>\n",
       "      <td>50</td>\n",
       "      <td>23.830675</td>\n",
       "      <td>84.813601</td>\n",
       "      <td>6.271479</td>\n",
       "      <td>298.560117</td>\n",
       "      <td>1</td>\n",
       "    </tr>\n",
       "    <tr>\n",
       "      <th>54</th>\n",
       "      <td>73</td>\n",
       "      <td>30</td>\n",
       "      <td>40</td>\n",
       "      <td>26.229169</td>\n",
       "      <td>83.836258</td>\n",
       "      <td>5.543360</td>\n",
       "      <td>286.508373</td>\n",
       "      <td>1</td>\n",
       "    </tr>\n",
       "    <tr>\n",
       "      <th>55</th>\n",
       "      <td>78</td>\n",
       "      <td>34</td>\n",
       "      <td>25</td>\n",
       "      <td>23.446768</td>\n",
       "      <td>84.793524</td>\n",
       "      <td>6.215110</td>\n",
       "      <td>283.933847</td>\n",
       "      <td>1</td>\n",
       "    </tr>\n",
       "    <tr>\n",
       "      <th>59</th>\n",
       "      <td>93</td>\n",
       "      <td>39</td>\n",
       "      <td>39</td>\n",
       "      <td>21.723831</td>\n",
       "      <td>80.238990</td>\n",
       "      <td>6.501698</td>\n",
       "      <td>277.962619</td>\n",
       "      <td>1</td>\n",
       "    </tr>\n",
       "    <tr>\n",
       "      <th>62</th>\n",
       "      <td>71</td>\n",
       "      <td>31</td>\n",
       "      <td>52</td>\n",
       "      <td>20.615214</td>\n",
       "      <td>83.773456</td>\n",
       "      <td>6.932400</td>\n",
       "      <td>279.545172</td>\n",
       "      <td>1</td>\n",
       "    </tr>\n",
       "    <tr>\n",
       "      <th>69</th>\n",
       "      <td>100</td>\n",
       "      <td>57</td>\n",
       "      <td>31</td>\n",
       "      <td>23.431916</td>\n",
       "      <td>80.568878</td>\n",
       "      <td>6.363472</td>\n",
       "      <td>269.503916</td>\n",
       "      <td>1</td>\n",
       "    </tr>\n",
       "    <tr>\n",
       "      <th>72</th>\n",
       "      <td>64</td>\n",
       "      <td>33</td>\n",
       "      <td>26</td>\n",
       "      <td>24.873007</td>\n",
       "      <td>82.840226</td>\n",
       "      <td>6.587919</td>\n",
       "      <td>295.609449</td>\n",
       "      <td>1</td>\n",
       "    </tr>\n",
       "    <tr>\n",
       "      <th>75</th>\n",
       "      <td>99</td>\n",
       "      <td>51</td>\n",
       "      <td>39</td>\n",
       "      <td>22.228698</td>\n",
       "      <td>81.858729</td>\n",
       "      <td>6.939084</td>\n",
       "      <td>278.079179</td>\n",
       "      <td>1</td>\n",
       "    </tr>\n",
       "    <tr>\n",
       "      <th>76</th>\n",
       "      <td>77</td>\n",
       "      <td>41</td>\n",
       "      <td>44</td>\n",
       "      <td>26.730724</td>\n",
       "      <td>81.785968</td>\n",
       "      <td>7.868475</td>\n",
       "      <td>280.404439</td>\n",
       "      <td>1</td>\n",
       "    </tr>\n",
       "    <tr>\n",
       "      <th>90</th>\n",
       "      <td>81</td>\n",
       "      <td>30</td>\n",
       "      <td>26</td>\n",
       "      <td>26.929951</td>\n",
       "      <td>81.914112</td>\n",
       "      <td>7.069172</td>\n",
       "      <td>290.679378</td>\n",
       "      <td>1</td>\n",
       "    </tr>\n",
       "    <tr>\n",
       "      <th>96</th>\n",
       "      <td>81</td>\n",
       "      <td>35</td>\n",
       "      <td>40</td>\n",
       "      <td>21.533463</td>\n",
       "      <td>82.140041</td>\n",
       "      <td>6.500343</td>\n",
       "      <td>295.924880</td>\n",
       "      <td>1</td>\n",
       "    </tr>\n",
       "    <tr>\n",
       "      <th>97</th>\n",
       "      <td>90</td>\n",
       "      <td>22</td>\n",
       "      <td>42</td>\n",
       "      <td>21.408658</td>\n",
       "      <td>83.329319</td>\n",
       "      <td>5.935745</td>\n",
       "      <td>287.576693</td>\n",
       "      <td>1</td>\n",
       "    </tr>\n",
       "  </tbody>\n",
       "</table>\n",
       "</div>"
      ],
      "text/plain": [
       "      N   P   K  temperature   humidity        ph    rainfall  label\n",
       "6    75  23  28    22.708838  82.639414  5.700806  271.324860      1\n",
       "12   86  52  48    26.800796  80.886848  5.108682  284.436457      1\n",
       "16   61  46  51    21.587118  82.788371  6.249051  276.655246      1\n",
       "19  100  46  34    23.579436  83.587603  5.853932  291.298662      1\n",
       "26   96  32  31    26.359272  84.044036  6.286500  271.358614      1\n",
       "30   68  34  49    21.446540  84.943760  5.824709  272.201720      1\n",
       "33   94  25  30    20.267076  81.638952  5.014507  270.441727      1\n",
       "36   78  23  40    26.757542  81.177340  5.960370  272.299906      1\n",
       "37   74  42  29    23.863305  83.152508  5.561399  285.249365      1\n",
       "38   68  60  49    21.019447  82.952217  7.416245  298.401847      1\n",
       "43   83  44  50    23.830675  84.813601  6.271479  298.560117      1\n",
       "54   73  30  40    26.229169  83.836258  5.543360  286.508373      1\n",
       "55   78  34  25    23.446768  84.793524  6.215110  283.933847      1\n",
       "59   93  39  39    21.723831  80.238990  6.501698  277.962619      1\n",
       "62   71  31  52    20.615214  83.773456  6.932400  279.545172      1\n",
       "69  100  57  31    23.431916  80.568878  6.363472  269.503916      1\n",
       "72   64  33  26    24.873007  82.840226  6.587919  295.609449      1\n",
       "75   99  51  39    22.228698  81.858729  6.939084  278.079179      1\n",
       "76   77  41  44    26.730724  81.785968  7.868475  280.404439      1\n",
       "90   81  30  26    26.929951  81.914112  7.069172  290.679378      1\n",
       "96   81  35  40    21.533463  82.140041  6.500343  295.924880      1\n",
       "97   90  22  42    21.408658  83.329319  5.935745  287.576693      1"
      ]
     },
     "execution_count": 12,
     "metadata": {},
     "output_type": "execute_result"
    }
   ],
   "source": [
    "dummy"
   ]
  },
  {
   "cell_type": "markdown",
   "id": "imperial-survivor",
   "metadata": {},
   "source": [
    "**Now we have to see which all values Are not properly normally distributed,well there are few like `N,humidity,rainfall`,as we can observe from the Q-Q plot,they're not that correctly fitted,lets try to fix them a bit**"
   ]
  },
  {
   "cell_type": "code",
   "execution_count": 13,
   "id": "neural-impact",
   "metadata": {},
   "outputs": [],
   "source": [
    "from sklearn.model_selection import train_test_split\n",
    "from sklearn.preprocessing import StandardScaler,MinMaxScaler"
   ]
  },
  {
   "cell_type": "code",
   "execution_count": 14,
   "id": "destroyed-principle",
   "metadata": {},
   "outputs": [
    {
     "data": {
      "text/html": [
       "<div>\n",
       "<style scoped>\n",
       "    .dataframe tbody tr th:only-of-type {\n",
       "        vertical-align: middle;\n",
       "    }\n",
       "\n",
       "    .dataframe tbody tr th {\n",
       "        vertical-align: top;\n",
       "    }\n",
       "\n",
       "    .dataframe thead th {\n",
       "        text-align: right;\n",
       "    }\n",
       "</style>\n",
       "<table border=\"1\" class=\"dataframe\">\n",
       "  <thead>\n",
       "    <tr style=\"text-align: right;\">\n",
       "      <th></th>\n",
       "      <th>N</th>\n",
       "      <th>P</th>\n",
       "      <th>K</th>\n",
       "      <th>temperature</th>\n",
       "      <th>humidity</th>\n",
       "      <th>ph</th>\n",
       "      <th>rainfall</th>\n",
       "      <th>label</th>\n",
       "    </tr>\n",
       "  </thead>\n",
       "  <tbody>\n",
       "    <tr>\n",
       "      <th>0</th>\n",
       "      <td>79</td>\n",
       "      <td>34</td>\n",
       "      <td>37</td>\n",
       "      <td>20.879744</td>\n",
       "      <td>82.002744</td>\n",
       "      <td>6.502985</td>\n",
       "      <td>202.935536</td>\n",
       "      <td>1</td>\n",
       "    </tr>\n",
       "    <tr>\n",
       "      <th>1</th>\n",
       "      <td>78</td>\n",
       "      <td>21</td>\n",
       "      <td>20</td>\n",
       "      <td>21.770462</td>\n",
       "      <td>80.319644</td>\n",
       "      <td>7.038096</td>\n",
       "      <td>226.655537</td>\n",
       "      <td>1</td>\n",
       "    </tr>\n",
       "  </tbody>\n",
       "</table>\n",
       "</div>"
      ],
      "text/plain": [
       "    N   P   K  temperature   humidity        ph    rainfall  label\n",
       "0  79  34  37    20.879744  82.002744  6.502985  202.935536      1\n",
       "1  78  21  20    21.770462  80.319644  7.038096  226.655537      1"
      ]
     },
     "execution_count": 14,
     "metadata": {},
     "output_type": "execute_result"
    }
   ],
   "source": [
    "temp.head(2)"
   ]
  },
  {
   "cell_type": "code",
   "execution_count": 15,
   "id": "upset-lounge",
   "metadata": {},
   "outputs": [],
   "source": [
    "test = temp['label']\n",
    "train = temp.drop(['label'],axis = 1)\n",
    "X_train, X_test, y_train, y_test = train_test_split(train,test,test_size = 0.2)"
   ]
  },
  {
   "cell_type": "code",
   "execution_count": 16,
   "id": "laden-polls",
   "metadata": {},
   "outputs": [],
   "source": [
    "mm = MinMaxScaler()\n",
    "X_train_scaled = mm.fit_transform(X_train)\n",
    "X_test_scaled = mm.fit_transform(X_test)"
   ]
  },
  {
   "cell_type": "markdown",
   "id": "waiting-contest",
   "metadata": {},
   "source": [
    "### ML ALGO "
   ]
  },
  {
   "cell_type": "code",
   "execution_count": 17,
   "id": "mysterious-defense",
   "metadata": {},
   "outputs": [],
   "source": [
    "from sklearn.model_selection import RandomizedSearchCV,train_test_split,cross_val_score\n",
    "from sklearn.tree import DecisionTreeClassifier\n",
    "from sklearn.linear_model import LogisticRegression\n",
    "from sklearn.neighbors import KNeighborsClassifier\n",
    "from sklearn.ensemble import RandomForestClassifier,GradientBoostingClassifier\n",
    "from sklearn import metrics\n",
    "from sklearn.svm import SVC \n",
    "from sklearn import tree"
   ]
  },
  {
   "cell_type": "code",
   "execution_count": 18,
   "id": "magnetic-ivory",
   "metadata": {},
   "outputs": [
    {
     "data": {
      "text/html": [
       "<div>\n",
       "<style scoped>\n",
       "    .dataframe tbody tr th:only-of-type {\n",
       "        vertical-align: middle;\n",
       "    }\n",
       "\n",
       "    .dataframe tbody tr th {\n",
       "        vertical-align: top;\n",
       "    }\n",
       "\n",
       "    .dataframe thead th {\n",
       "        text-align: right;\n",
       "    }\n",
       "</style>\n",
       "<table border=\"1\" class=\"dataframe\">\n",
       "  <thead>\n",
       "    <tr style=\"text-align: right;\">\n",
       "      <th></th>\n",
       "      <th>N</th>\n",
       "      <th>P</th>\n",
       "      <th>K</th>\n",
       "      <th>temperature</th>\n",
       "      <th>humidity</th>\n",
       "      <th>ph</th>\n",
       "      <th>rainfall</th>\n",
       "    </tr>\n",
       "  </thead>\n",
       "  <tbody>\n",
       "    <tr>\n",
       "      <th>0</th>\n",
       "      <td>0.264286</td>\n",
       "      <td>0.329032</td>\n",
       "      <td>0.217391</td>\n",
       "      <td>0.482163</td>\n",
       "      <td>0.570332</td>\n",
       "      <td>0.479021</td>\n",
       "      <td>0.090893</td>\n",
       "    </tr>\n",
       "    <tr>\n",
       "      <th>1</th>\n",
       "      <td>0.857143</td>\n",
       "      <td>0.232258</td>\n",
       "      <td>0.339130</td>\n",
       "      <td>0.511128</td>\n",
       "      <td>0.821678</td>\n",
       "      <td>0.417468</td>\n",
       "      <td>0.101057</td>\n",
       "    </tr>\n",
       "    <tr>\n",
       "      <th>2</th>\n",
       "      <td>0.214286</td>\n",
       "      <td>0.393548</td>\n",
       "      <td>0.078261</td>\n",
       "      <td>0.476315</td>\n",
       "      <td>0.454515</td>\n",
       "      <td>0.158449</td>\n",
       "      <td>0.093398</td>\n",
       "    </tr>\n",
       "    <tr>\n",
       "      <th>3</th>\n",
       "      <td>0.685714</td>\n",
       "      <td>0.270968</td>\n",
       "      <td>0.060870</td>\n",
       "      <td>0.278321</td>\n",
       "      <td>0.638907</td>\n",
       "      <td>0.352812</td>\n",
       "      <td>0.244045</td>\n",
       "    </tr>\n",
       "    <tr>\n",
       "      <th>4</th>\n",
       "      <td>0.571429</td>\n",
       "      <td>0.283871</td>\n",
       "      <td>0.134783</td>\n",
       "      <td>0.446478</td>\n",
       "      <td>0.588721</td>\n",
       "      <td>0.579986</td>\n",
       "      <td>0.357385</td>\n",
       "    </tr>\n",
       "  </tbody>\n",
       "</table>\n",
       "</div>"
      ],
      "text/plain": [
       "          N         P         K  temperature  humidity        ph  rainfall\n",
       "0  0.264286  0.329032  0.217391     0.482163  0.570332  0.479021  0.090893\n",
       "1  0.857143  0.232258  0.339130     0.511128  0.821678  0.417468  0.101057\n",
       "2  0.214286  0.393548  0.078261     0.476315  0.454515  0.158449  0.093398\n",
       "3  0.685714  0.270968  0.060870     0.278321  0.638907  0.352812  0.244045\n",
       "4  0.571429  0.283871  0.134783     0.446478  0.588721  0.579986  0.357385"
      ]
     },
     "execution_count": 18,
     "metadata": {},
     "output_type": "execute_result"
    }
   ],
   "source": [
    "X_train_df = pd.DataFrame(X_train_scaled,columns=train.columns)\n",
    "X_train_df.head()"
   ]
  },
  {
   "cell_type": "code",
   "execution_count": 19,
   "id": "statewide-conversion",
   "metadata": {},
   "outputs": [
    {
     "data": {
      "text/plain": [
       "array([[0.26428571, 0.32903226, 0.2173913 , ..., 0.57033213, 0.47902113,\n",
       "        0.09089299],\n",
       "       [0.85714286, 0.23225806, 0.33913043, ..., 0.82167845, 0.41746817,\n",
       "        0.10105669],\n",
       "       [0.21428571, 0.39354839, 0.07826087, ..., 0.4545152 , 0.1584494 ,\n",
       "        0.09339812],\n",
       "       ...,\n",
       "       [0.59285714, 0.4516129 , 0.2826087 , ..., 0.86215339, 0.42030561,\n",
       "        0.55860052],\n",
       "       [0.17857143, 0.39354839, 0.16086957, ..., 0.28173862, 0.22419   ,\n",
       "        0.4293354 ],\n",
       "       [0.47857143, 0.47096774, 0.25652174, ..., 0.88955746, 0.53293754,\n",
       "        0.19650384]])"
      ]
     },
     "execution_count": 19,
     "metadata": {},
     "output_type": "execute_result"
    }
   ],
   "source": [
    "X_train_scaled"
   ]
  },
  {
   "cell_type": "code",
   "execution_count": 20,
   "id": "composed-highland",
   "metadata": {},
   "outputs": [
    {
     "data": {
      "text/plain": [
       "[Text(0.3958333333333333, 0.9666666666666667, 'humidity <= 27.685\\ngini = 0.954\\nsamples = 1760\\nvalue = [82, 78, 81, 86, 81, 78, 78, 81, 76, 82, 73, 78\\n85, 80, 82, 81, 76, 87, 78, 81, 74, 82]'),\n",
       " Text(0.33630952380952384, 0.9, 'K <= 49.5\\ngini = 0.5\\nsamples = 167\\nvalue = [0, 0, 81, 86, 0, 0, 0, 0, 0, 0, 0, 0, 0, 0\\n0, 0, 0, 0, 0, 0, 0, 0]'),\n",
       " Text(0.3125, 0.8333333333333334, 'gini = 0.0\\nsamples = 86\\nvalue = [0, 0, 0, 86, 0, 0, 0, 0, 0, 0, 0, 0, 0, 0\\n0, 0, 0, 0, 0, 0, 0, 0]'),\n",
       " Text(0.3601190476190476, 0.8333333333333334, 'gini = 0.0\\nsamples = 81\\nvalue = [0, 0, 81, 0, 0, 0, 0, 0, 0, 0, 0, 0, 0, 0\\n0, 0, 0, 0, 0, 0, 0, 0]'),\n",
       " Text(0.45535714285714285, 0.9, 'K <= 125.0\\ngini = 0.95\\nsamples = 1593\\nvalue = [82, 78, 0, 0, 81, 78, 78, 81, 76, 82, 73, 78\\n85, 80, 82, 81, 76, 87, 78, 81, 74, 82]'),\n",
       " Text(0.40773809523809523, 0.8333333333333334, 'rainfall <= 30.849\\ngini = 0.944\\nsamples = 1427\\nvalue = [82, 78, 0, 0, 81, 78, 78, 81, 76, 82, 73, 78\\n0, 80, 82, 0, 76, 87, 78, 81, 74, 82]'),\n",
       " Text(0.38392857142857145, 0.7666666666666667, 'gini = 0.0\\nsamples = 82\\nvalue = [0, 0, 0, 0, 0, 0, 0, 0, 0, 0, 0, 0, 0, 0\\n82, 0, 0, 0, 0, 0, 0, 0]'),\n",
       " Text(0.43154761904761907, 0.7666666666666667, 'humidity <= 73.812\\ngini = 0.941\\nsamples = 1345\\nvalue = [82, 78, 0, 0, 81, 78, 78, 81, 76, 82, 73, 78\\n0, 80, 0, 0, 76, 87, 78, 81, 74, 82]'),\n",
       " Text(0.25595238095238093, 0.7, 'N <= 60.5\\ngini = 0.863\\nsamples = 567\\nvalue = [0, 77, 0, 0, 81, 78, 0, 81, 76, 0, 0, 78, 0\\n0, 0, 0, 0, 0, 0, 0, 14, 82]'),\n",
       " Text(0.17857142857142858, 0.6333333333333333, 'rainfall <= 82.104\\ngini = 0.8\\nsamples = 394\\nvalue = [0, 0, 0, 0, 81, 78, 0, 81, 76, 0, 0, 78, 0\\n0, 0, 0, 0, 0, 0, 0, 0, 0]'),\n",
       " Text(0.09523809523809523, 0.5666666666666667, 'rainfall <= 59.804\\ngini = 0.666\\nsamples = 235\\nvalue = [0, 0, 0, 0, 0, 78, 0, 81, 76, 0, 0, 0, 0, 0\\n0, 0, 0, 0, 0, 0, 0, 0]'),\n",
       " Text(0.047619047619047616, 0.5, 'humidity <= 59.942\\ngini = 0.481\\nsamples = 127\\nvalue = [0, 0, 0, 0, 0, 51, 0, 0, 76, 0, 0, 0, 0, 0\\n0, 0, 0, 0, 0, 0, 0, 0]'),\n",
       " Text(0.023809523809523808, 0.43333333333333335, 'gini = 0.0\\nsamples = 43\\nvalue = [0, 0, 0, 0, 0, 43, 0, 0, 0, 0, 0, 0, 0, 0\\n0, 0, 0, 0, 0, 0, 0, 0]'),\n",
       " Text(0.07142857142857142, 0.43333333333333335, 'rainfall <= 34.594\\ngini = 0.172\\nsamples = 84\\nvalue = [0, 0, 0, 0, 0, 8, 0, 0, 76, 0, 0, 0, 0, 0\\n0, 0, 0, 0, 0, 0, 0, 0]'),\n",
       " Text(0.047619047619047616, 0.36666666666666664, 'gini = 0.0\\nsamples = 5\\nvalue = [0, 0, 0, 0, 0, 5, 0, 0, 0, 0, 0, 0, 0, 0\\n0, 0, 0, 0, 0, 0, 0, 0]'),\n",
       " Text(0.09523809523809523, 0.36666666666666664, 'P <= 35.0\\ngini = 0.073\\nsamples = 79\\nvalue = [0, 0, 0, 0, 0, 3, 0, 0, 76, 0, 0, 0, 0, 0\\n0, 0, 0, 0, 0, 0, 0, 0]'),\n",
       " Text(0.07142857142857142, 0.3, 'gini = 0.0\\nsamples = 2\\nvalue = [0, 0, 0, 0, 0, 2, 0, 0, 0, 0, 0, 0, 0, 0\\n0, 0, 0, 0, 0, 0, 0, 0]'),\n",
       " Text(0.11904761904761904, 0.3, 'humidity <= 61.528\\ngini = 0.026\\nsamples = 77\\nvalue = [0, 0, 0, 0, 0, 1, 0, 0, 76, 0, 0, 0, 0, 0\\n0, 0, 0, 0, 0, 0, 0, 0]'),\n",
       " Text(0.09523809523809523, 0.23333333333333334, 'humidity <= 61.309\\ngini = 0.153\\nsamples = 12\\nvalue = [0, 0, 0, 0, 0, 1, 0, 0, 11, 0, 0, 0, 0, 0\\n0, 0, 0, 0, 0, 0, 0, 0]'),\n",
       " Text(0.07142857142857142, 0.16666666666666666, 'gini = 0.0\\nsamples = 11\\nvalue = [0, 0, 0, 0, 0, 0, 0, 0, 11, 0, 0, 0, 0, 0\\n0, 0, 0, 0, 0, 0, 0, 0]'),\n",
       " Text(0.11904761904761904, 0.16666666666666666, 'gini = 0.0\\nsamples = 1\\nvalue = [0, 0, 0, 0, 0, 1, 0, 0, 0, 0, 0, 0, 0, 0\\n0, 0, 0, 0, 0, 0, 0, 0]'),\n",
       " Text(0.14285714285714285, 0.23333333333333334, 'gini = 0.0\\nsamples = 65\\nvalue = [0, 0, 0, 0, 0, 0, 0, 0, 65, 0, 0, 0, 0, 0\\n0, 0, 0, 0, 0, 0, 0, 0]'),\n",
       " Text(0.14285714285714285, 0.5, 'humidity <= 59.146\\ngini = 0.375\\nsamples = 108\\nvalue = [0, 0, 0, 0, 0, 27, 0, 81, 0, 0, 0, 0, 0, 0\\n0, 0, 0, 0, 0, 0, 0, 0]'),\n",
       " Text(0.11904761904761904, 0.43333333333333335, 'gini = 0.0\\nsamples = 16\\nvalue = [0, 0, 0, 0, 0, 16, 0, 0, 0, 0, 0, 0, 0, 0\\n0, 0, 0, 0, 0, 0, 0, 0]'),\n",
       " Text(0.16666666666666666, 0.43333333333333335, 'N <= 16.5\\ngini = 0.211\\nsamples = 92\\nvalue = [0, 0, 0, 0, 0, 11, 0, 81, 0, 0, 0, 0, 0, 0\\n0, 0, 0, 0, 0, 0, 0, 0]'),\n",
       " Text(0.14285714285714285, 0.36666666666666664, 'gini = 0.0\\nsamples = 7\\nvalue = [0, 0, 0, 0, 0, 7, 0, 0, 0, 0, 0, 0, 0, 0\\n0, 0, 0, 0, 0, 0, 0, 0]'),\n",
       " Text(0.19047619047619047, 0.36666666666666664, 'ph <= 6.147\\ngini = 0.09\\nsamples = 85\\nvalue = [0, 0, 0, 0, 0, 4, 0, 81, 0, 0, 0, 0, 0, 0\\n0, 0, 0, 0, 0, 0, 0, 0]'),\n",
       " Text(0.16666666666666666, 0.3, 'gini = 0.0\\nsamples = 3\\nvalue = [0, 0, 0, 0, 0, 3, 0, 0, 0, 0, 0, 0, 0, 0\\n0, 0, 0, 0, 0, 0, 0, 0]'),\n",
       " Text(0.21428571428571427, 0.3, 'P <= 39.0\\ngini = 0.024\\nsamples = 82\\nvalue = [0, 0, 0, 0, 0, 1, 0, 81, 0, 0, 0, 0, 0, 0\\n0, 0, 0, 0, 0, 0, 0, 0]'),\n",
       " Text(0.19047619047619047, 0.23333333333333334, 'gini = 0.0\\nsamples = 1\\nvalue = [0, 0, 0, 0, 0, 1, 0, 0, 0, 0, 0, 0, 0, 0\\n0, 0, 0, 0, 0, 0, 0, 0]'),\n",
       " Text(0.23809523809523808, 0.23333333333333334, 'gini = 0.0\\nsamples = 81\\nvalue = [0, 0, 0, 0, 0, 0, 0, 81, 0, 0, 0, 0, 0, 0\\n0, 0, 0, 0, 0, 0, 0, 0]'),\n",
       " Text(0.2619047619047619, 0.5666666666666667, 'P <= 40.5\\ngini = 0.5\\nsamples = 159\\nvalue = [0, 0, 0, 0, 81, 0, 0, 0, 0, 0, 0, 78, 0, 0\\n0, 0, 0, 0, 0, 0, 0, 0]'),\n",
       " Text(0.23809523809523808, 0.5, 'rainfall <= 113.743\\ngini = 0.025\\nsamples = 79\\nvalue = [0, 0, 0, 0, 1, 0, 0, 0, 0, 0, 0, 78, 0, 0\\n0, 0, 0, 0, 0, 0, 0, 0]'),\n",
       " Text(0.21428571428571427, 0.43333333333333335, 'gini = 0.0\\nsamples = 78\\nvalue = [0, 0, 0, 0, 0, 0, 0, 0, 0, 0, 0, 78, 0, 0\\n0, 0, 0, 0, 0, 0, 0, 0]'),\n",
       " Text(0.2619047619047619, 0.43333333333333335, 'gini = 0.0\\nsamples = 1\\nvalue = [0, 0, 0, 0, 1, 0, 0, 0, 0, 0, 0, 0, 0, 0\\n0, 0, 0, 0, 0, 0, 0, 0]'),\n",
       " Text(0.2857142857142857, 0.5, 'gini = 0.0\\nsamples = 80\\nvalue = [0, 0, 0, 0, 80, 0, 0, 0, 0, 0, 0, 0, 0, 0\\n0, 0, 0, 0, 0, 0, 0, 0]'),\n",
       " Text(0.3333333333333333, 0.6333333333333333, 'rainfall <= 112.454\\ngini = 0.571\\nsamples = 173\\nvalue = [0, 77, 0, 0, 0, 0, 0, 0, 0, 0, 0, 0, 0, 0\\n0, 0, 0, 0, 0, 0, 14, 82]'),\n",
       " Text(0.30952380952380953, 0.5666666666666667, 'gini = 0.0\\nsamples = 77\\nvalue = [0, 77, 0, 0, 0, 0, 0, 0, 0, 0, 0, 0, 0, 0\\n0, 0, 0, 0, 0, 0, 0, 0]'),\n",
       " Text(0.35714285714285715, 0.5666666666666667, 'humidity <= 70.415\\ngini = 0.249\\nsamples = 96\\nvalue = [0, 0, 0, 0, 0, 0, 0, 0, 0, 0, 0, 0, 0, 0\\n0, 0, 0, 0, 0, 0, 14, 82]'),\n",
       " Text(0.3333333333333333, 0.5, 'gini = 0.0\\nsamples = 82\\nvalue = [0, 0, 0, 0, 0, 0, 0, 0, 0, 0, 0, 0, 0, 0\\n0, 0, 0, 0, 0, 0, 0, 82]'),\n",
       " Text(0.38095238095238093, 0.5, 'gini = 0.0\\nsamples = 14\\nvalue = [0, 0, 0, 0, 0, 0, 0, 0, 0, 0, 0, 0, 0, 0\\n0, 0, 0, 0, 0, 0, 14, 0]'),\n",
       " Text(0.6071428571428571, 0.7, 'rainfall <= 60.263\\ngini = 0.899\\nsamples = 778\\nvalue = [82, 1, 0, 0, 0, 0, 78, 0, 0, 82, 73, 0, 0\\n80, 0, 0, 76, 87, 78, 81, 60, 0]'),\n",
       " Text(0.47619047619047616, 0.6333333333333333, 'N <= 75.5\\ngini = 0.549\\nsamples = 167\\nvalue = [0, 0, 0, 0, 0, 0, 78, 0, 0, 0, 0, 0, 0, 80\\n0, 0, 0, 9, 0, 0, 0, 0]'),\n",
       " Text(0.4523809523809524, 0.5666666666666667, 'humidity <= 90.106\\ngini = 0.185\\nsamples = 87\\nvalue = [0, 0, 0, 0, 0, 0, 78, 0, 0, 0, 0, 0, 0, 0\\n0, 0, 0, 9, 0, 0, 0, 0]'),\n",
       " Text(0.42857142857142855, 0.5, 'gini = 0.0\\nsamples = 78\\nvalue = [0, 0, 0, 0, 0, 0, 78, 0, 0, 0, 0, 0, 0, 0\\n0, 0, 0, 0, 0, 0, 0, 0]'),\n",
       " Text(0.47619047619047616, 0.5, 'gini = 0.0\\nsamples = 9\\nvalue = [0, 0, 0, 0, 0, 0, 0, 0, 0, 0, 0, 0, 0, 0\\n0, 0, 0, 9, 0, 0, 0, 0]'),\n",
       " Text(0.5, 0.5666666666666667, 'gini = 0.0\\nsamples = 80\\nvalue = [0, 0, 0, 0, 0, 0, 0, 0, 0, 0, 0, 0, 0, 80\\n0, 0, 0, 0, 0, 0, 0, 0]'),\n",
       " Text(0.7380952380952381, 0.6333333333333333, 'humidity <= 85.054\\ngini = 0.874\\nsamples = 611\\nvalue = [82, 1, 0, 0, 0, 0, 0, 0, 0, 82, 73, 0, 0, 0\\n0, 0, 76, 78, 78, 81, 60, 0]'),\n",
       " Text(0.5833333333333334, 0.5666666666666667, 'rainfall <= 135.24\\ngini = 0.74\\nsamples = 282\\nvalue = [82, 1, 0, 0, 0, 0, 0, 0, 0, 0, 73, 0, 0, 0\\n0, 0, 0, 0, 0, 81, 45, 0]'),\n",
       " Text(0.5238095238095238, 0.5, 'P <= 60.5\\ngini = 0.505\\nsamples = 155\\nvalue = [0, 1, 0, 0, 0, 0, 0, 0, 0, 0, 73, 0, 0, 0\\n0, 0, 0, 0, 0, 81, 0, 0]'),\n",
       " Text(0.5, 0.43333333333333335, 'rainfall <= 101.07\\ngini = 0.198\\nsamples = 91\\nvalue = [0, 1, 0, 0, 0, 0, 0, 0, 0, 0, 9, 0, 0, 0\\n0, 0, 0, 0, 0, 81, 0, 0]'),\n",
       " Text(0.47619047619047616, 0.36666666666666664, 'temperature <= 26.332\\ngini = 0.069\\nsamples = 84\\nvalue = [0, 1, 0, 0, 0, 0, 0, 0, 0, 0, 2, 0, 0, 0\\n0, 0, 0, 0, 0, 81, 0, 0]'),\n",
       " Text(0.4523809523809524, 0.3, 'temperature <= 20.491\\ngini = 0.024\\nsamples = 82\\nvalue = [0, 1, 0, 0, 0, 0, 0, 0, 0, 0, 0, 0, 0, 0\\n0, 0, 0, 0, 0, 81, 0, 0]'),\n",
       " Text(0.42857142857142855, 0.23333333333333334, 'gini = 0.0\\nsamples = 1\\nvalue = [0, 1, 0, 0, 0, 0, 0, 0, 0, 0, 0, 0, 0, 0\\n0, 0, 0, 0, 0, 0, 0, 0]'),\n",
       " Text(0.47619047619047616, 0.23333333333333334, 'gini = 0.0\\nsamples = 81\\nvalue = [0, 0, 0, 0, 0, 0, 0, 0, 0, 0, 0, 0, 0, 0\\n0, 0, 0, 0, 0, 81, 0, 0]'),\n",
       " Text(0.5, 0.3, 'gini = 0.0\\nsamples = 2\\nvalue = [0, 0, 0, 0, 0, 0, 0, 0, 0, 0, 2, 0, 0, 0\\n0, 0, 0, 0, 0, 0, 0, 0]'),\n",
       " Text(0.5238095238095238, 0.36666666666666664, 'gini = 0.0\\nsamples = 7\\nvalue = [0, 0, 0, 0, 0, 0, 0, 0, 0, 0, 7, 0, 0, 0\\n0, 0, 0, 0, 0, 0, 0, 0]'),\n",
       " Text(0.5476190476190477, 0.43333333333333335, 'gini = 0.0\\nsamples = 64\\nvalue = [0, 0, 0, 0, 0, 0, 0, 0, 0, 0, 64, 0, 0, 0\\n0, 0, 0, 0, 0, 0, 0, 0]'),\n",
       " Text(0.6428571428571429, 0.5, 'rainfall <= 196.807\\ngini = 0.458\\nsamples = 127\\nvalue = [82, 0, 0, 0, 0, 0, 0, 0, 0, 0, 0, 0, 0, 0\\n0, 0, 0, 0, 0, 0, 45, 0]'),\n",
       " Text(0.5952380952380952, 0.43333333333333335, 'ph <= 6.017\\ngini = 0.352\\nsamples = 57\\nvalue = [13, 0, 0, 0, 0, 0, 0, 0, 0, 0, 0, 0, 0, 0\\n0, 0, 0, 0, 0, 0, 44, 0]'),\n",
       " Text(0.5714285714285714, 0.36666666666666664, 'gini = 0.0\\nsamples = 6\\nvalue = [6, 0, 0, 0, 0, 0, 0, 0, 0, 0, 0, 0, 0, 0\\n0, 0, 0, 0, 0, 0, 0, 0]'),\n",
       " Text(0.6190476190476191, 0.36666666666666664, 'temperature <= 22.21\\ngini = 0.237\\nsamples = 51\\nvalue = [7, 0, 0, 0, 0, 0, 0, 0, 0, 0, 0, 0, 0, 0\\n0, 0, 0, 0, 0, 0, 44, 0]'),\n",
       " Text(0.5952380952380952, 0.3, 'gini = 0.0\\nsamples = 3\\nvalue = [3, 0, 0, 0, 0, 0, 0, 0, 0, 0, 0, 0, 0, 0\\n0, 0, 0, 0, 0, 0, 0, 0]'),\n",
       " Text(0.6428571428571429, 0.3, 'humidity <= 84.578\\ngini = 0.153\\nsamples = 48\\nvalue = [4, 0, 0, 0, 0, 0, 0, 0, 0, 0, 0, 0, 0, 0\\n0, 0, 0, 0, 0, 0, 44, 0]'),\n",
       " Text(0.6190476190476191, 0.23333333333333334, 'rainfall <= 193.909\\ngini = 0.12\\nsamples = 47\\nvalue = [3, 0, 0, 0, 0, 0, 0, 0, 0, 0, 0, 0, 0, 0\\n0, 0, 0, 0, 0, 0, 44, 0]'),\n",
       " Text(0.5714285714285714, 0.16666666666666666, 'P <= 20.5\\ngini = 0.046\\nsamples = 42\\nvalue = [1, 0, 0, 0, 0, 0, 0, 0, 0, 0, 0, 0, 0, 0\\n0, 0, 0, 0, 0, 0, 41, 0]'),\n",
       " Text(0.5476190476190477, 0.1, 'ph <= 6.863\\ngini = 0.444\\nsamples = 3\\nvalue = [1, 0, 0, 0, 0, 0, 0, 0, 0, 0, 0, 0, 0, 0\\n0, 0, 0, 0, 0, 0, 2, 0]'),\n",
       " Text(0.5238095238095238, 0.03333333333333333, 'gini = 0.0\\nsamples = 2\\nvalue = [0, 0, 0, 0, 0, 0, 0, 0, 0, 0, 0, 0, 0, 0\\n0, 0, 0, 0, 0, 0, 2, 0]'),\n",
       " Text(0.5714285714285714, 0.03333333333333333, 'gini = 0.0\\nsamples = 1\\nvalue = [1, 0, 0, 0, 0, 0, 0, 0, 0, 0, 0, 0, 0, 0\\n0, 0, 0, 0, 0, 0, 0, 0]'),\n",
       " Text(0.5952380952380952, 0.1, 'gini = 0.0\\nsamples = 39\\nvalue = [0, 0, 0, 0, 0, 0, 0, 0, 0, 0, 0, 0, 0, 0\\n0, 0, 0, 0, 0, 0, 39, 0]'),\n",
       " Text(0.6666666666666666, 0.16666666666666666, 'humidity <= 81.456\\ngini = 0.48\\nsamples = 5\\nvalue = [2, 0, 0, 0, 0, 0, 0, 0, 0, 0, 0, 0, 0, 0\\n0, 0, 0, 0, 0, 0, 3, 0]'),\n",
       " Text(0.6428571428571429, 0.1, 'gini = 0.0\\nsamples = 3\\nvalue = [0, 0, 0, 0, 0, 0, 0, 0, 0, 0, 0, 0, 0, 0\\n0, 0, 0, 0, 0, 0, 3, 0]'),\n",
       " Text(0.6904761904761905, 0.1, 'gini = 0.0\\nsamples = 2\\nvalue = [2, 0, 0, 0, 0, 0, 0, 0, 0, 0, 0, 0, 0, 0\\n0, 0, 0, 0, 0, 0, 0, 0]'),\n",
       " Text(0.6666666666666666, 0.23333333333333334, 'gini = 0.0\\nsamples = 1\\nvalue = [1, 0, 0, 0, 0, 0, 0, 0, 0, 0, 0, 0, 0, 0\\n0, 0, 0, 0, 0, 0, 0, 0]'),\n",
       " Text(0.6904761904761905, 0.43333333333333335, 'humidity <= 77.111\\ngini = 0.028\\nsamples = 70\\nvalue = [69, 0, 0, 0, 0, 0, 0, 0, 0, 0, 0, 0, 0, 0\\n0, 0, 0, 0, 0, 0, 1, 0]'),\n",
       " Text(0.6666666666666666, 0.36666666666666664, 'gini = 0.0\\nsamples = 1\\nvalue = [0, 0, 0, 0, 0, 0, 0, 0, 0, 0, 0, 0, 0, 0\\n0, 0, 0, 0, 0, 0, 1, 0]'),\n",
       " Text(0.7142857142857143, 0.36666666666666664, 'gini = 0.0\\nsamples = 69\\nvalue = [69, 0, 0, 0, 0, 0, 0, 0, 0, 0, 0, 0, 0, 0\\n0, 0, 0, 0, 0, 0, 0, 0]'),\n",
       " Text(0.8928571428571429, 0.5666666666666667, 'P <= 30.5\\ngini = 0.77\\nsamples = 329\\nvalue = [0, 0, 0, 0, 0, 0, 0, 0, 0, 82, 0, 0, 0, 0\\n0, 0, 76, 78, 78, 0, 15, 0]'),\n",
       " Text(0.8333333333333334, 0.5, 'rainfall <= 125.392\\ngini = 0.682\\nsamples = 242\\nvalue = [0, 0, 0, 0, 0, 0, 0, 0, 0, 82, 0, 0, 0, 0\\n0, 0, 76, 0, 78, 0, 6, 0]'),\n",
       " Text(0.7857142857142857, 0.43333333333333335, 'K <= 19.5\\ngini = 0.499\\nsamples = 158\\nvalue = [0, 0, 0, 0, 0, 0, 0, 0, 0, 82, 0, 0, 0, 0\\n0, 0, 76, 0, 0, 0, 0, 0]'),\n",
       " Text(0.7619047619047619, 0.36666666666666664, 'gini = 0.0\\nsamples = 60\\nvalue = [0, 0, 0, 0, 0, 0, 0, 0, 0, 0, 0, 0, 0, 0\\n0, 0, 60, 0, 0, 0, 0, 0]'),\n",
       " Text(0.8095238095238095, 0.36666666666666664, 'rainfall <= 112.567\\ngini = 0.273\\nsamples = 98\\nvalue = [0, 0, 0, 0, 0, 0, 0, 0, 0, 82, 0, 0, 0, 0\\n0, 0, 16, 0, 0, 0, 0, 0]'),\n",
       " Text(0.7857142857142857, 0.3, 'ph <= 7.344\\ngini = 0.194\\nsamples = 92\\nvalue = [0, 0, 0, 0, 0, 0, 0, 0, 0, 82, 0, 0, 0, 0\\n0, 0, 10, 0, 0, 0, 0, 0]'),\n",
       " Text(0.7619047619047619, 0.23333333333333334, 'temperature <= 17.868\\ngini = 0.108\\nsamples = 87\\nvalue = [0, 0, 0, 0, 0, 0, 0, 0, 0, 82, 0, 0, 0, 0\\n0, 0, 5, 0, 0, 0, 0, 0]'),\n",
       " Text(0.7380952380952381, 0.16666666666666666, 'gini = 0.0\\nsamples = 3\\nvalue = [0, 0, 0, 0, 0, 0, 0, 0, 0, 0, 0, 0, 0, 0\\n0, 0, 3, 0, 0, 0, 0, 0]'),\n",
       " Text(0.7857142857142857, 0.16666666666666666, 'temperature <= 26.612\\ngini = 0.046\\nsamples = 84\\nvalue = [0, 0, 0, 0, 0, 0, 0, 0, 0, 82, 0, 0, 0, 0\\n0, 0, 2, 0, 0, 0, 0, 0]'),\n",
       " Text(0.7619047619047619, 0.1, 'gini = 0.0\\nsamples = 82\\nvalue = [0, 0, 0, 0, 0, 0, 0, 0, 0, 82, 0, 0, 0, 0\\n0, 0, 0, 0, 0, 0, 0, 0]'),\n",
       " Text(0.8095238095238095, 0.1, 'gini = 0.0\\nsamples = 2\\nvalue = [0, 0, 0, 0, 0, 0, 0, 0, 0, 0, 0, 0, 0, 0\\n0, 0, 2, 0, 0, 0, 0, 0]'),\n",
       " Text(0.8095238095238095, 0.23333333333333334, 'gini = 0.0\\nsamples = 5\\nvalue = [0, 0, 0, 0, 0, 0, 0, 0, 0, 0, 0, 0, 0, 0\\n0, 0, 5, 0, 0, 0, 0, 0]'),\n",
       " Text(0.8333333333333334, 0.3, 'gini = 0.0\\nsamples = 6\\nvalue = [0, 0, 0, 0, 0, 0, 0, 0, 0, 0, 0, 0, 0, 0\\n0, 0, 6, 0, 0, 0, 0, 0]'),\n",
       " Text(0.8809523809523809, 0.43333333333333335, 'humidity <= 90.082\\ngini = 0.133\\nsamples = 84\\nvalue = [0, 0, 0, 0, 0, 0, 0, 0, 0, 0, 0, 0, 0, 0\\n0, 0, 0, 0, 78, 0, 6, 0]'),\n",
       " Text(0.8571428571428571, 0.36666666666666664, 'gini = 0.0\\nsamples = 6\\nvalue = [0, 0, 0, 0, 0, 0, 0, 0, 0, 0, 0, 0, 0, 0\\n0, 0, 0, 0, 0, 0, 6, 0]'),\n",
       " Text(0.9047619047619048, 0.36666666666666664, 'gini = 0.0\\nsamples = 78\\nvalue = [0, 0, 0, 0, 0, 0, 0, 0, 0, 0, 0, 0, 0, 0\\n0, 0, 0, 0, 78, 0, 0, 0]'),\n",
       " Text(0.9523809523809523, 0.5, 'humidity <= 89.185\\ngini = 0.185\\nsamples = 87\\nvalue = [0, 0, 0, 0, 0, 0, 0, 0, 0, 0, 0, 0, 0, 0\\n0, 0, 0, 78, 0, 0, 9, 0]'),\n",
       " Text(0.9285714285714286, 0.43333333333333335, 'gini = 0.0\\nsamples = 9\\nvalue = [0, 0, 0, 0, 0, 0, 0, 0, 0, 0, 0, 0, 0, 0\\n0, 0, 0, 0, 0, 0, 9, 0]'),\n",
       " Text(0.9761904761904762, 0.43333333333333335, 'gini = 0.0\\nsamples = 78\\nvalue = [0, 0, 0, 0, 0, 0, 0, 0, 0, 0, 0, 0, 0, 0\\n0, 0, 0, 78, 0, 0, 0, 0]'),\n",
       " Text(0.5029761904761905, 0.8333333333333334, 'rainfall <= 87.516\\ngini = 0.5\\nsamples = 166\\nvalue = [0, 0, 0, 0, 0, 0, 0, 0, 0, 0, 0, 0, 85, 0\\n0, 81, 0, 0, 0, 0, 0, 0]'),\n",
       " Text(0.4791666666666667, 0.7666666666666667, 'gini = 0.0\\nsamples = 85\\nvalue = [0, 0, 0, 0, 0, 0, 0, 0, 0, 0, 0, 0, 85, 0\\n0, 0, 0, 0, 0, 0, 0, 0]'),\n",
       " Text(0.5267857142857143, 0.7666666666666667, 'gini = 0.0\\nsamples = 81\\nvalue = [0, 0, 0, 0, 0, 0, 0, 0, 0, 0, 0, 0, 0, 0\\n0, 81, 0, 0, 0, 0, 0, 0]')]"
      ]
     },
     "execution_count": 20,
     "metadata": {},
     "output_type": "execute_result"
    },
    {
     "data": {
      "image/png": "[encoded data removed]",
      "text/plain": [
       "<Figure size 1152x648 with 1 Axes>"
      ]
     },
     "metadata": {
      "needs_background": "light"
     },
     "output_type": "display_data"
    }
   ],
   "source": [
    "clf = DecisionTreeClassifier(random_state=0)\n",
    "clf.fit(X_train,y_train)\n",
    "plt.figure(figsize=(16,9))\n",
    "tree.plot_tree(clf,filled=True,feature_names=train.columns"
   ]
  },
  {
   "cell_type": "code",
   "execution_count": 21,
   "id": "interesting-unemployment",
   "metadata": {},
   "outputs": [
    {
     "data": {
      "text/plain": [
       "array([0.        , 0.00055465, 0.0005608 , 0.00101912, 0.00112013,\n",
       "       0.00112198, 0.00112251, 0.00112251, 0.00215803, 0.00219189,\n",
       "       0.00221861, 0.00269608, 0.00313666, 0.00320905, 0.00454076,\n",
       "       0.00477318, 0.00494548, 0.0050849 , 0.00633117, 0.00667388,\n",
       "       0.00691288, 0.00916928, 0.00916928, 0.01200593, 0.01358902,\n",
       "       0.02049354, 0.02645635, 0.02960828, 0.0312917 , 0.0342522 ,\n",
       "       0.04114455, 0.04153277, 0.04243685, 0.04250662, 0.04384132,\n",
       "       0.04650136, 0.04705153, 0.04734125])"
      ]
     },
     "execution_count": 21,
     "metadata": {},
     "output_type": "execute_result"
    }
   ],
   "source": [
    "path = clf.cost_complexity_pruning_path(X_train,y_train)\n",
    "ccp_alpha = path.ccp_alphas\n",
    "ccp_alpha"
   ]
  },
  {
   "cell_type": "code",
   "execution_count": 22,
   "id": "sensitive-facing",
   "metadata": {},
   "outputs": [],
   "source": [
    "alpha_list = []\n",
    "for i in ccp_alpha:\n",
    "    clf = DecisionTreeClassifier(random_state=0,ccp_alpha=i)\n",
    "    clf.fit(X_train,y_train)\n",
    "    alpha_list.append(clf)\n"
   ]
  },
  {
   "cell_type": "code",
   "execution_count": 23,
   "id": "similar-kuwait",
   "metadata": {},
   "outputs": [
    {
     "data": {
      "image/png": "[encoded data removed]",
      "text/plain": [
       "<Figure size 432x288 with 1 Axes>"
      ]
     },
     "metadata": {
      "needs_background": "light"
     },
     "output_type": "display_data"
    }
   ],
   "source": [
    "train_score = [clf.score(X_train,y_train) for clf in alpha_list]\n",
    "test_score =  [clf.score(X_test,y_test) for clf in alpha_list]\n",
    "\n",
    "plt.xlabel('alpha')\n",
    "plt.ylabel('accuracy')\n",
    "plt.plot(ccp_alpha,train_score,marker = 'o',label = 'training',color = 'magenta',drawstyle = 'steps-post')\n",
    "plt.plot(ccp_alpha,test_score,marker = '+',label = 'testing',color = 'red',drawstyle = 'steps-post')\n",
    "plt.legend()\n",
    "plt.show()"
   ]
  },
  {
   "cell_type": "code",
   "execution_count": 24,
   "id": "sexual-collar",
   "metadata": {},
   "outputs": [
    {
     "data": {
      "text/plain": [
       "[Text(0.4090909090909091, 0.875, 'humidity <= 27.685\\ngini = 0.954\\nsamples = 1760\\nvalue = [82, 78, 81, 86, 81, 78, 78, 81, 76, 82, 73, 78\\n85, 80, 82, 81, 76, 87, 78, 81, 74, 82]'),\n",
       " Text(0.18181818181818182, 0.625, 'K <= 49.5\\ngini = 0.5\\nsamples = 167\\nvalue = [0, 0, 81, 86, 0, 0, 0, 0, 0, 0, 0, 0, 0, 0\\n0, 0, 0, 0, 0, 0, 0, 0]'),\n",
       " Text(0.09090909090909091, 0.375, 'gini = 0.0\\nsamples = 86\\nvalue = [0, 0, 0, 86, 0, 0, 0, 0, 0, 0, 0, 0, 0, 0\\n0, 0, 0, 0, 0, 0, 0, 0]'),\n",
       " Text(0.2727272727272727, 0.375, 'gini = 0.0\\nsamples = 81\\nvalue = [0, 0, 81, 0, 0, 0, 0, 0, 0, 0, 0, 0, 0, 0\\n0, 0, 0, 0, 0, 0, 0, 0]'),\n",
       " Text(0.6363636363636364, 0.625, 'K <= 125.0\\ngini = 0.95\\nsamples = 1593\\nvalue = [82, 78, 0, 0, 81, 78, 78, 81, 76, 82, 73, 78\\n85, 80, 82, 81, 76, 87, 78, 81, 74, 82]'),\n",
       " Text(0.45454545454545453, 0.375, 'rainfall <= 30.849\\ngini = 0.944\\nsamples = 1427\\nvalue = [82, 78, 0, 0, 81, 78, 78, 81, 76, 82, 73, 78\\n0, 80, 82, 0, 76, 87, 78, 81, 74, 82]'),\n",
       " Text(0.36363636363636365, 0.125, 'gini = 0.0\\nsamples = 82\\nvalue = [0, 0, 0, 0, 0, 0, 0, 0, 0, 0, 0, 0, 0, 0\\n82, 0, 0, 0, 0, 0, 0, 0]'),\n",
       " Text(0.5454545454545454, 0.125, 'gini = 0.941\\nsamples = 1345\\nvalue = [82, 78, 0, 0, 81, 78, 78, 81, 76, 82, 73, 78\\n0, 80, 0, 0, 76, 87, 78, 81, 74, 82]'),\n",
       " Text(0.8181818181818182, 0.375, 'rainfall <= 87.516\\ngini = 0.5\\nsamples = 166\\nvalue = [0, 0, 0, 0, 0, 0, 0, 0, 0, 0, 0, 0, 85, 0\\n0, 81, 0, 0, 0, 0, 0, 0]'),\n",
       " Text(0.7272727272727273, 0.125, 'gini = 0.0\\nsamples = 85\\nvalue = [0, 0, 0, 0, 0, 0, 0, 0, 0, 0, 0, 0, 85, 0\\n0, 0, 0, 0, 0, 0, 0, 0]'),\n",
       " Text(0.9090909090909091, 0.125, 'gini = 0.0\\nsamples = 81\\nvalue = [0, 0, 0, 0, 0, 0, 0, 0, 0, 0, 0, 0, 0, 0\\n0, 81, 0, 0, 0, 0, 0, 0]')]"
      ]
     },
     "execution_count": 24,
     "metadata": {},
     "output_type": "execute_result"
    },
    {
     "data": {
      "image/png": "[encoded data removed]",
      "text/plain": [
       "<Figure size 1152x648 with 1 Axes>"
      ]
     },
     "metadata": {
      "needs_background": "light"
     },
     "output_type": "display_data"
    }
   ],
   "source": [
    "clf = DecisionTreeClassifier(random_state=0,ccp_alpha=0.045)\n",
    "clf.fit(X_train,y_train)\n",
    "plt.figure(figsize=(16,9))\n",
    "tree.plot_tree(clf,filled=True,feature_names=train.columns)"
   ]
  },
  {
   "cell_type": "code",
   "execution_count": 25,
   "id": "varied-classics",
   "metadata": {},
   "outputs": [],
   "source": [
    "params = {\n",
    "    'RandomForest':{\n",
    "        'model': RandomForestClassifier(),\n",
    "        'params':{\n",
    "            'n_estimators': [int(x) for x in np.linspace(start=1,stop=1200,num=10)],\n",
    "            'max_depth':[int(x) for x in np.linspace(start=1,stop=30,num=5)],\n",
    "            'min_samples_split':[2,5,10,12],\n",
    "            'min_samples_leaf':[2,5,10,12],\n",
    "            'max_features':['auto','sqrt'],\n",
    "            'ccp_alpha':[0.030,0.035,0.040,0.045,0.050],\n",
    "        }\n",
    "    },\n",
    "    \n",
    "    'logistic':{\n",
    "        'model':LogisticRegression(),\n",
    "        'params':{\n",
    "            'penalty':['l1', 'l2', 'elasticnet'],\n",
    "            'C':[0.25,0.50,0.75,1.0],\n",
    "            'tol':[1e-10,1e-5,1e-4,1e-3,0.025,0.25,0.50],\n",
    "            'solver':['lbfgs','liblinear','saga','newton-cg'],\n",
    "            'multi_class':['auto', 'ovr', 'multinomial'],\n",
    "            'max_iter':[int(x) for x in np.linspace(start=1,stop=250,num=10)],\n",
    "        }\n",
    "    },\n",
    "    'D-tree':{\n",
    "        'model':DecisionTreeClassifier(),\n",
    "        'params':{\n",
    "            'criterion':['gini','entropy'],\n",
    "            'splitter':['best','random'],\n",
    "            'min_samples_split':[1,2,5,10,12],\n",
    "            'min_samples_leaf':[1,2,5,10,12],\n",
    "            'max_features':['auto','sqrt'],\n",
    "            'ccp_alpha':[0.030,0.035,0.040,0.045,0.050],\n",
    "        }\n",
    "    },\n",
    "    'SVM':{\n",
    "        'model':SVC(),\n",
    "        'params':{\n",
    "            'C':[0.25,0.50,0.75,1.0],\n",
    "            'tol':[1e-10,1e-5,1e-4,0.025,0.50,0.75],\n",
    "            'kernel':['linear','poly','sigmoid','rbf'],\n",
    "            'max_iter':[int(x) for x in np.linspace(start=1,stop=250,num=10)],\n",
    "        }\n",
    "    }\n",
    "}"
   ]
  },
  {
   "cell_type": "code",
   "execution_count": 26,
   "id": "wicked-program",
   "metadata": {},
   "outputs": [
    {
     "name": "stdout",
     "output_type": "stream",
     "text": [
      "Fitting 5 folds for each of 10 candidates, totalling 50 fits\n",
      "Fitting 5 folds for each of 10 candidates, totalling 50 fits\n"
     ]
    },
    {
     "name": "stderr",
     "output_type": "stream",
     "text": [
      "C:\\Users\\HP\\anaconda3\\lib\\site-packages\\sklearn\\model_selection\\_validation.py:372: FitFailedWarning: \n",
      "30 fits failed out of a total of 50.\n",
      "The score on these train-test partitions for these parameters will be set to nan.\n",
      "If these failures are not expected, you can try to debug them by setting error_score='raise'.\n",
      "\n",
      "Below are more details about the failures:\n",
      "--------------------------------------------------------------------------------\n",
      "5 fits failed with the following error:\n",
      "Traceback (most recent call last):\n",
      "  File \"C:\\Users\\HP\\anaconda3\\lib\\site-packages\\sklearn\\model_selection\\_validation.py\", line 680, in _fit_and_score\n",
      "    estimator.fit(X_train, y_train, **fit_params)\n",
      "  File \"C:\\Users\\HP\\anaconda3\\lib\\site-packages\\sklearn\\linear_model\\_logistic.py\", line 1461, in fit\n",
      "    solver = _check_solver(self.solver, self.penalty, self.dual)\n",
      "  File \"C:\\Users\\HP\\anaconda3\\lib\\site-packages\\sklearn\\linear_model\\_logistic.py\", line 447, in _check_solver\n",
      "    raise ValueError(\n",
      "ValueError: Solver newton-cg supports only 'l2' or 'none' penalties, got elasticnet penalty.\n",
      "\n",
      "--------------------------------------------------------------------------------\n",
      "10 fits failed with the following error:\n",
      "Traceback (most recent call last):\n",
      "  File \"C:\\Users\\HP\\anaconda3\\lib\\site-packages\\sklearn\\model_selection\\_validation.py\", line 680, in _fit_and_score\n",
      "    estimator.fit(X_train, y_train, **fit_params)\n",
      "  File \"C:\\Users\\HP\\anaconda3\\lib\\site-packages\\sklearn\\linear_model\\_logistic.py\", line 1471, in fit\n",
      "    raise ValueError(\n",
      "ValueError: l1_ratio must be between 0 and 1; got (l1_ratio=None)\n",
      "\n",
      "--------------------------------------------------------------------------------\n",
      "5 fits failed with the following error:\n",
      "Traceback (most recent call last):\n",
      "  File \"C:\\Users\\HP\\anaconda3\\lib\\site-packages\\sklearn\\model_selection\\_validation.py\", line 680, in _fit_and_score\n",
      "    estimator.fit(X_train, y_train, **fit_params)\n",
      "  File \"C:\\Users\\HP\\anaconda3\\lib\\site-packages\\sklearn\\linear_model\\_logistic.py\", line 1519, in fit\n",
      "    multi_class = _check_multi_class(self.multi_class, solver, len(self.classes_))\n",
      "  File \"C:\\Users\\HP\\anaconda3\\lib\\site-packages\\sklearn\\linear_model\\_logistic.py\", line 483, in _check_multi_class\n",
      "    raise ValueError(\"Solver %s does not support a multinomial backend.\" % solver)\n",
      "ValueError: Solver liblinear does not support a multinomial backend.\n",
      "\n",
      "--------------------------------------------------------------------------------\n",
      "5 fits failed with the following error:\n",
      "Traceback (most recent call last):\n",
      "  File \"C:\\Users\\HP\\anaconda3\\lib\\site-packages\\sklearn\\model_selection\\_validation.py\", line 680, in _fit_and_score\n",
      "    estimator.fit(X_train, y_train, **fit_params)\n",
      "  File \"C:\\Users\\HP\\anaconda3\\lib\\site-packages\\sklearn\\linear_model\\_logistic.py\", line 1461, in fit\n",
      "    solver = _check_solver(self.solver, self.penalty, self.dual)\n",
      "  File \"C:\\Users\\HP\\anaconda3\\lib\\site-packages\\sklearn\\linear_model\\_logistic.py\", line 447, in _check_solver\n",
      "    raise ValueError(\n",
      "ValueError: Solver newton-cg supports only 'l2' or 'none' penalties, got l1 penalty.\n",
      "\n",
      "--------------------------------------------------------------------------------\n",
      "5 fits failed with the following error:\n",
      "Traceback (most recent call last):\n",
      "  File \"C:\\Users\\HP\\anaconda3\\lib\\site-packages\\sklearn\\model_selection\\_validation.py\", line 680, in _fit_and_score\n",
      "    estimator.fit(X_train, y_train, **fit_params)\n",
      "  File \"C:\\Users\\HP\\anaconda3\\lib\\site-packages\\sklearn\\linear_model\\_logistic.py\", line 1461, in fit\n",
      "    solver = _check_solver(self.solver, self.penalty, self.dual)\n",
      "  File \"C:\\Users\\HP\\anaconda3\\lib\\site-packages\\sklearn\\linear_model\\_logistic.py\", line 447, in _check_solver\n",
      "    raise ValueError(\n",
      "ValueError: Solver lbfgs supports only 'l2' or 'none' penalties, got l1 penalty.\n",
      "\n",
      "  warnings.warn(some_fits_failed_message, FitFailedWarning)\n",
      "C:\\Users\\HP\\anaconda3\\lib\\site-packages\\sklearn\\model_selection\\_search.py:969: UserWarning: One or more of the test scores are non-finite: [       nan 0.95681818        nan 0.92556818 0.90625           nan\n",
      "        nan 0.85625           nan        nan]\n",
      "  warnings.warn(\n",
      "C:\\Users\\HP\\anaconda3\\lib\\site-packages\\sklearn\\utils\\optimize.py:210: ConvergenceWarning: newton-cg failed to converge. Increase the number of iterations.\n",
      "  warnings.warn(\n"
     ]
    },
    {
     "name": "stdout",
     "output_type": "stream",
     "text": [
      "Fitting 5 folds for each of 10 candidates, totalling 50 fits\n"
     ]
    },
    {
     "name": "stderr",
     "output_type": "stream",
     "text": [
      "C:\\Users\\HP\\anaconda3\\lib\\site-packages\\sklearn\\model_selection\\_validation.py:372: FitFailedWarning: \n",
      "5 fits failed out of a total of 50.\n",
      "The score on these train-test partitions for these parameters will be set to nan.\n",
      "If these failures are not expected, you can try to debug them by setting error_score='raise'.\n",
      "\n",
      "Below are more details about the failures:\n",
      "--------------------------------------------------------------------------------\n",
      "5 fits failed with the following error:\n",
      "Traceback (most recent call last):\n",
      "  File \"C:\\Users\\HP\\anaconda3\\lib\\site-packages\\sklearn\\model_selection\\_validation.py\", line 680, in _fit_and_score\n",
      "    estimator.fit(X_train, y_train, **fit_params)\n",
      "  File \"C:\\Users\\HP\\anaconda3\\lib\\site-packages\\sklearn\\tree\\_classes.py\", line 937, in fit\n",
      "    super().fit(\n",
      "  File \"C:\\Users\\HP\\anaconda3\\lib\\site-packages\\sklearn\\tree\\_classes.py\", line 250, in fit\n",
      "    raise ValueError(\n",
      "ValueError: min_samples_split must be an integer greater than 1 or a float in (0.0, 1.0]; got the integer 1\n",
      "\n",
      "  warnings.warn(some_fits_failed_message, FitFailedWarning)\n",
      "C:\\Users\\HP\\anaconda3\\lib\\site-packages\\sklearn\\model_selection\\_search.py:969: UserWarning: One or more of the test scores are non-finite: [0.42045455 0.55511364 0.04886364 0.09602273 0.69943182 0.13011364\n",
      " 0.24545455        nan 0.04886364 0.68295455]\n",
      "  warnings.warn(\n"
     ]
    },
    {
     "name": "stdout",
     "output_type": "stream",
     "text": [
      "Fitting 5 folds for each of 10 candidates, totalling 50 fits\n"
     ]
    },
    {
     "name": "stderr",
     "output_type": "stream",
     "text": [
      "C:\\Users\\HP\\anaconda3\\lib\\site-packages\\sklearn\\svm\\_base.py:284: ConvergenceWarning: Solver terminated early (max_iter=56).  Consider pre-processing your data with StandardScaler or MinMaxScaler.\n",
      "  warnings.warn(\n"
     ]
    }
   ],
   "source": [
    "scores = []\n",
    "for model_name,mp in params.items():\n",
    "    clf = RandomizedSearchCV(mp['model'],param_distributions= mp['params'],cv = 5,n_jobs=-1,n_iter = 10,scoring='accuracy',\n",
    "                            verbose=2)\n",
    "    clf.fit(X_train,y_train)\n",
    "    scores.append({\n",
    "        'model_name':model_name,\n",
    "        'best_score':clf.best_score_,\n",
    "        'best_estimator':clf.best_estimator_\n",
    "    })"
   ]
  },
  {
   "cell_type": "code",
   "execution_count": 27,
   "id": "friendly-original",
   "metadata": {},
   "outputs": [
    {
     "data": {
      "text/html": [
       "<div>\n",
       "<style scoped>\n",
       "    .dataframe tbody tr th:only-of-type {\n",
       "        vertical-align: middle;\n",
       "    }\n",
       "\n",
       "    .dataframe tbody tr th {\n",
       "        vertical-align: top;\n",
       "    }\n",
       "\n",
       "    .dataframe thead th {\n",
       "        text-align: right;\n",
       "    }\n",
       "</style>\n",
       "<table border=\"1\" class=\"dataframe\">\n",
       "  <thead>\n",
       "    <tr style=\"text-align: right;\">\n",
       "      <th></th>\n",
       "      <th>model_name</th>\n",
       "      <th>best_estimator</th>\n",
       "      <th>best_score</th>\n",
       "    </tr>\n",
       "  </thead>\n",
       "  <tbody>\n",
       "    <tr>\n",
       "      <th>0</th>\n",
       "      <td>RandomForest</td>\n",
       "      <td>(DecisionTreeClassifier(ccp_alpha=0.03, max_de...</td>\n",
       "      <td>0.923295</td>\n",
       "    </tr>\n",
       "    <tr>\n",
       "      <th>1</th>\n",
       "      <td>logistic</td>\n",
       "      <td>LogisticRegression(max_iter=56, multi_class='m...</td>\n",
       "      <td>0.956818</td>\n",
       "    </tr>\n",
       "    <tr>\n",
       "      <th>2</th>\n",
       "      <td>D-tree</td>\n",
       "      <td>DecisionTreeClassifier(ccp_alpha=0.05, criteri...</td>\n",
       "      <td>0.699432</td>\n",
       "    </tr>\n",
       "    <tr>\n",
       "      <th>3</th>\n",
       "      <td>SVM</td>\n",
       "      <td>SVC(C=0.75, kernel='poly', max_iter=56, tol=1e...</td>\n",
       "      <td>0.947159</td>\n",
       "    </tr>\n",
       "  </tbody>\n",
       "</table>\n",
       "</div>"
      ],
      "text/plain": [
       "     model_name                                     best_estimator  best_score\n",
       "0  RandomForest  (DecisionTreeClassifier(ccp_alpha=0.03, max_de...    0.923295\n",
       "1      logistic  LogisticRegression(max_iter=56, multi_class='m...    0.956818\n",
       "2        D-tree  DecisionTreeClassifier(ccp_alpha=0.05, criteri...    0.699432\n",
       "3           SVM  SVC(C=0.75, kernel='poly', max_iter=56, tol=1e...    0.947159"
      ]
     },
     "execution_count": 27,
     "metadata": {},
     "output_type": "execute_result"
    }
   ],
   "source": [
    "scores_df = pd.DataFrame(data = scores,columns = ['model_name','best_estimator','best_score'])\n",
    "scores_df"
   ]
  },
  {
   "cell_type": "code",
   "execution_count": 29,
   "id": "blessed-navigation",
   "metadata": {},
   "outputs": [],
   "source": [
    "rf = RandomForestClassifier(ccp_alpha=0.03, max_depth=22, min_samples_leaf=12,\n",
    "                       min_samples_split=5, n_estimators=800)\n",
    "\n",
    "lr = LogisticRegression(C=0.75, max_iter=194, multi_class='ovr', penalty='l1',\n",
    "                   solver='liblinear')\n",
    "\n",
    "svc = SVC(C=0.5, kernel='poly', max_iter=139, tol=1e-10)\n",
    "\n",
    "rf_val = cross_val_score(estimator=rf,X=X_train_scaled,y=y_train,cv=20,n_jobs=-1)\n",
    "lr_val = cross_val_score(estimator = lr,X=X_train_scaled,y=y_train,cv=20,n_jobs=-1)\n",
    "svc_val = cross_val_score(estimator=svc,X=X_train_scaled,y=y_train,cv=20,n_jobs=-1)"
   ]
  },
  {
   "cell_type": "code",
   "execution_count": 30,
   "id": "decreased-bible",
   "metadata": {
    "scrolled": true
   },
   "outputs": [
    {
     "name": "stdout",
     "output_type": "stream",
     "text": [
      " Model : rf gave 0.9164772727272726 accuracy\n",
      " Model : lr gave 0.9068181818181819 accuracy\n",
      " Model : svc gave 0.9744318181818181 accuracy\n"
     ]
    },
    {
     "data": {
      "image/png": "[encoded data removed]",
      "text/plain": [
       "<Figure size 432x288 with 1 Axes>"
      ]
     },
     "metadata": {
      "needs_background": "light"
     },
     "output_type": "display_data"
    }
   ],
   "source": [
    "\n",
    "score_list = [rf_val,lr_val,svc_val]\n",
    "model_name = ['rf','lr','svc']\n",
    "x_axis=[]\n",
    "for i,j in zip(score_list,model_name):\n",
    "    x_axis.append(i.mean())\n",
    "    print(f' Model : {j} gave {i.mean()} accuracy')\n",
    "m=np.array(x_axis)\n",
    "n=np.array(model_name)\n",
    "plt.title(\"Accuracy comparision\")\n",
    "plt.xlabel(\"Accuracy\")\n",
    "plt.ylabel(\"Algorithms\")\n",
    "plt.barh(n,m,color=['yellow','green','pink'])\n",
    "plt.show()"
   ]
  },
  {
   "cell_type": "code",
   "execution_count": 31,
   "id": "treated-sheet",
   "metadata": {},
   "outputs": [],
   "source": [
    "from sklearn import metrics"
   ]
  },
  {
   "cell_type": "code",
   "execution_count": 32,
   "id": "brave-roberts",
   "metadata": {},
   "outputs": [
    {
     "name": "stderr",
     "output_type": "stream",
     "text": [
      "C:\\Users\\HP\\anaconda3\\lib\\site-packages\\sklearn\\svm\\_base.py:284: ConvergenceWarning: Solver terminated early (max_iter=139).  Consider pre-processing your data with StandardScaler or MinMaxScaler.\n",
      "  warnings.warn(\n"
     ]
    },
    {
     "data": {
      "text/plain": [
       "0.9852272727272727"
      ]
     },
     "execution_count": 32,
     "metadata": {},
     "output_type": "execute_result"
    }
   ],
   "source": [
    "svc = SVC(C=0.5, kernel='poly', max_iter=139, tol=1e-10)\n",
    "svc.fit(X_train_scaled,y_train)\n",
    "svc.score(X_train_scaled,y_train)"
   ]
  },
  {
   "cell_type": "code",
   "execution_count": 33,
   "id": "suffering-spirit",
   "metadata": {},
   "outputs": [
    {
     "data": {
      "text/plain": [
       "0.9181818181818182"
      ]
     },
     "execution_count": 33,
     "metadata": {},
     "output_type": "execute_result"
    }
   ],
   "source": [
    "rf = RandomForestClassifier(ccp_alpha=0.03, max_depth=22, min_samples_leaf=12,\n",
    "                       min_samples_split=5, n_estimators=800)\n",
    "\n",
    "rf.fit(X_train,y_train)\n",
    "rf.score(X_train,y_train)"
   ]
  },
  {
   "cell_type": "code",
   "execution_count": 34,
   "id": "polished-richmond",
   "metadata": {},
   "outputs": [
    {
     "name": "stderr",
     "output_type": "stream",
     "text": [
      "C:\\Users\\HP\\anaconda3\\lib\\site-packages\\sklearn\\svm\\_base.py:284: ConvergenceWarning: Solver terminated early (max_iter=139).  Consider pre-processing your data with StandardScaler or MinMaxScaler.\n",
      "  warnings.warn(\n"
     ]
    },
    {
     "data": {
      "text/plain": [
       "0.9585227272727272"
      ]
     },
     "execution_count": 34,
     "metadata": {},
     "output_type": "execute_result"
    }
   ],
   "source": [
    "svc = SVC(C=0.5, kernel='poly', max_iter=139, tol=1e-10)\n",
    "svc.fit(X_train,y_train)\n",
    "svc.score(X_train,y_train)"
   ]
  },
  {
   "cell_type": "code",
   "execution_count": 35,
   "id": "entitled-dryer",
   "metadata": {},
   "outputs": [
    {
     "data": {
      "text/plain": [
       "0.9522727272727273"
      ]
     },
     "execution_count": 35,
     "metadata": {},
     "output_type": "execute_result"
    }
   ],
   "source": [
    "svc.score(X_test,y_test)"
   ]
  },
  {
   "cell_type": "code",
   "execution_count": 36,
   "id": "unauthorized-proof",
   "metadata": {},
   "outputs": [
    {
     "data": {
      "text/plain": [
       "((2200, 7), (2200, 8))"
      ]
     },
     "execution_count": 36,
     "metadata": {},
     "output_type": "execute_result"
    }
   ],
   "source": [
    "train.shape,temp.shape"
   ]
  },
  {
   "cell_type": "code",
   "execution_count": 39,
   "id": "69d16789",
   "metadata": {},
   "outputs": [
    {
     "data": {
      "text/plain": [
       "{1: 'rice',\n",
       " 2: 'maize',\n",
       " 3: 'chickpea',\n",
       " 4: 'kidneybeans',\n",
       " 5: 'pigeonpeas',\n",
       " 6: 'mothbeans',\n",
       " 7: 'mungbean',\n",
       " 8: 'blackgram',\n",
       " 9: 'lentil',\n",
       " 10: 'pomegranate',\n",
       " 11: 'banana',\n",
       " 12: 'mango',\n",
       " 13: 'grapes',\n",
       " 14: 'watermelon',\n",
       " 15: 'muskmelon',\n",
       " 16: 'apple',\n",
       " 17: 'orange',\n",
       " 18: 'papaya',\n",
       " 19: 'coconut',\n",
       " 20: 'cotton',\n",
       " 21: 'jute',\n",
       " 22: 'coffee'}"
      ]
     },
     "execution_count": 39,
     "metadata": {},
     "output_type": "execute_result"
    }
   ],
   "source": [
    "original_labels = ['rice', 'maize', 'chickpea', 'kidneybeans', 'pigeonpeas',\n",
    "       'mothbeans', 'mungbean', 'blackgram', 'lentil', 'pomegranate',\n",
    "       'banana', 'mango', 'grapes', 'watermelon', 'muskmelon', 'apple',\n",
    "       'orange', 'papaya', 'coconut', 'cotton', 'jute', 'coffee']\n",
    "labels_map_new = {i+1:original_labels[i] for i in range(len(original_labels))}\n",
    "labels_map_new"
   ]
  },
  {
   "cell_type": "code",
   "execution_count": 41,
   "id": "demanding-elephant",
   "metadata": {},
   "outputs": [
    {
     "name": "stdout",
     "output_type": "stream",
     "text": [
      "jute\n",
      "coffee\n"
     ]
    },
    {
     "name": "stderr",
     "output_type": "stream",
     "text": [
      "C:\\Users\\HP\\anaconda3\\lib\\site-packages\\sklearn\\base.py:450: UserWarning: X does not have valid feature names, but SVC was fitted with feature names\n",
      "  warnings.warn(\n",
      "C:\\Users\\HP\\anaconda3\\lib\\site-packages\\sklearn\\base.py:450: UserWarning: X does not have valid feature names, but SVC was fitted with feature names\n",
      "  warnings.warn(\n"
     ]
    }
   ],
   "source": [
    "# 21st label is jute!\n",
    "\n",
    "data = np.array([[83, 45, 60, 28, 70.3, 7.0, 150.9]])\n",
    "prediction = svc.predict(data)\n",
    "pred = prediction[0]\n",
    "print(labels_map_new[pred])\n",
    "\n",
    "\n",
    "data = np.array([[104,18, 30, 23.603016, 60.3, 6.7, 140.91]])\n",
    "prediction = svc.predict(data)\n",
    "pred = prediction[0]\n",
    "print(labels_map_new[pred])"
   ]
  },
  {
   "cell_type": "markdown",
   "id": "promotional-registration",
   "metadata": {},
   "source": [
    "## Saving the Model"
   ]
  },
  {
   "cell_type": "code",
   "execution_count": 42,
   "id": "killing-scoop",
   "metadata": {},
   "outputs": [],
   "source": [
    "import pickle\n",
    "svm_model_pkl = open('crop_classification_model.pkl', 'wb')\n",
    "pickle.dump(svc, svm_model_pkl)\n",
    "svm_model_pkl.close()"
   ]
  },
  {
   "cell_type": "code",
   "execution_count": 43,
   "id": "reported-filing",
   "metadata": {},
   "outputs": [],
   "source": [
    "file = open('cropmodel2.pkl','wb')\n",
    "pickle.dump(svc,file)\n",
    "file.close()"
   ]
  },
  {
   "cell_type": "code",
   "execution_count": null,
   "id": "freelance-hampton",
   "metadata": {},
   "outputs": [],
   "source": []
  },
  {
   "cell_type": "code",
   "execution_count": null,
   "id": "dbb13e02",
   "metadata": {},
   "outputs": [],
   "source": []
  },
  {
   "cell_type": "code",
   "execution_count": null,
   "id": "20c9e24a",
   "metadata": {},
   "outputs": [],
   "source": []
  },
  {
   "cell_type": "code",
   "execution_count": null,
   "id": "fce028e8",
   "metadata": {},
   "outputs": [],
   "source": []
  },
  {
   "cell_type": "code",
   "execution_count": null,
   "id": "0e64f546",
   "metadata": {},
   "outputs": [],
   "source": []
  }
 ],
 "metadata": {
  "kernelspec": {
   "display_name": "Python 3 (ipykernel)",
   "language": "python",
   "name": "python3"
  },
  "language_info": {
   "codemirror_mode": {
    "name": "ipython",
    "version": 3
   },
   "file_extension": ".py",
   "mimetype": "text/x-python",
   "name": "python",
   "nbconvert_exporter": "python",
   "pygments_lexer": "ipython3",
   "version": "3.9.12"
  }
 },
 "nbformat": 4,
 "nbformat_minor": 5
}
